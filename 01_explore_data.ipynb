{
 "cells": [
  {
   "cell_type": "code",
   "execution_count": 8,
   "metadata": {
    "collapsed": false
   },
   "outputs": [
    {
     "name": "stdout",
     "output_type": "stream",
     "text": [
      "['PassengerId', 'Survived', 'Pclass', 'Name', 'Sex', 'Age', 'SibSp', 'Parch', 'Ticket', 'Fare', 'Cabin', 'Embarked']\n",
      "['1' '0' '3' 'Braund, Mr. Owen Harris' 'male' '22' '1' '0' 'A/5 21171'\n",
      " '7.25' '' 'S']\n"
     ]
    }
   ],
   "source": [
    "import csv as csv\n",
    "import numpy as np\n",
    "\n",
    "csv_file_object = csv.reader(open('dataset/train.csv', 'r'))\n",
    "header = csv_file_object.__next__()\n",
    "print(header)\n",
    "\n",
    "data=[]\n",
    "for row in csv_file_object:\n",
    "    data.append(row)\n",
    "data = np.array(data)\n",
    "print(data[0])\n"
   ]
  },
  {
   "cell_type": "code",
   "execution_count": 22,
   "metadata": {
    "collapsed": false
   },
   "outputs": [],
   "source": [
    "num_passengers = np.size(data[0::,1].astype(np.float))\n",
    "num_survived = np.sum(data[0::,1].astype(np.float))\n",
    "proportion_survivors = num_survived / num_passengers\n",
    "\n",
    "women_only = data[0::, 4] == 'female'\n",
    "men_only = data[0::, 4] != 'female'\n",
    "women_onboard = data[women_only, 1]\n",
    "men_onboard = data[men_only, 1]"
   ]
  },
  {
   "cell_type": "code",
   "execution_count": 23,
   "metadata": {
    "collapsed": false
   },
   "outputs": [
    {
     "name": "stdout",
     "output_type": "stream",
     "text": [
      "Proportion of women who survived is 0.742038216561\n",
      "Proportion of men who survived is 0.188908145581\n"
     ]
    }
   ],
   "source": [
    "proportion_women_survived = np.sum(women_onboard.astype(np.float)) / np.size(women_onboard)\n",
    "proportion_men_survived = np.sum(men_onboard.astype(np.float)) / np.size(men_onboard)\n",
    "print('Proportion of women who survived is %s' % proportion_women_survived)\n",
    "print('Proportion of men who survived is %s' % proportion_men_survived)"
   ]
  },
  {
   "cell_type": "raw",
   "metadata": {},
   "source": [
    "# Reading test data and writing the gender model as a csv"
   ]
  },
  {
   "cell_type": "code",
   "execution_count": 28,
   "metadata": {
    "collapsed": false
   },
   "outputs": [
    {
     "name": "stdout",
     "output_type": "stream",
     "text": [
      "['PassengerId', 'Pclass', 'Name', 'Sex', 'Age', 'SibSp', 'Parch', 'Ticket', 'Fare', 'Cabin', 'Embarked']\n"
     ]
    }
   ],
   "source": [
    "test_file = open('dataset/test.csv', 'r')\n",
    "test_file_object = csv.reader(test_file)\n",
    "header = test_file_object.__next__()\n",
    "print(header)\n",
    "\n",
    "prediction_file = open('dataset/genderbasedmodel.csv', 'w')\n",
    "prediction_file_object = csv.writer(prediction_file)\n",
    "\n",
    "prediction_file_object.writerow(['PassengerId', 'Survived'])\n",
    "for row in test_file_object:\n",
    "    if row[3] == 'female':\n",
    "        prediction_file_object.writerow([row[0], '1'])\n",
    "    else:\n",
    "        prediction_file_object.writerow([row[0], '0'])\n",
    "test_file.close()\n",
    "prediction_file.close()\n"
   ]
  },
  {
   "cell_type": "code",
   "execution_count": null,
   "metadata": {
    "collapsed": true
   },
   "outputs": [],
   "source": []
  }
 ],
 "metadata": {
  "anaconda-cloud": {},
  "kernelspec": {
   "display_name": "Python [default]",
   "language": "python",
   "name": "python3"
  },
  "language_info": {
   "codemirror_mode": {
    "name": "ipython",
    "version": 3
   },
   "file_extension": ".py",
   "mimetype": "text/x-python",
   "name": "python",
   "nbconvert_exporter": "python",
   "pygments_lexer": "ipython3",
   "version": "3.5.2"
  }
 },
 "nbformat": 4,
 "nbformat_minor": 1
}
